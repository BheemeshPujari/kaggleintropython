{
 "cells": [
  {
   "cell_type": "code",
   "execution_count": 1,
   "id": "7021d02c",
   "metadata": {},
   "outputs": [],
   "source": [
    "my_test = 3\n",
    "my_variable = 100"
   ]
  },
  {
   "cell_type": "code",
   "execution_count": 2,
   "id": "7b725379",
   "metadata": {},
   "outputs": [
    {
     "name": "stdout",
     "output_type": "stream",
     "text": [
      "3 100\n"
     ]
    }
   ],
   "source": [
    "print(my_test,my_variable)"
   ]
  },
  {
   "cell_type": "markdown",
   "id": "9fe6c5dd",
   "metadata": {},
   "source": [
    "# Multiple variables\n"
   ]
  },
  {
   "cell_type": "code",
   "execution_count": 3,
   "id": "67639e64",
   "metadata": {},
   "outputs": [
    {
     "name": "stdout",
     "output_type": "stream",
     "text": [
      "157680000\n"
     ]
    }
   ],
   "source": [
    "years = 5\n",
    "no_days = 365\n",
    "no_hours = 24\n",
    "no_min = 60\n",
    "no_sec = 60\n",
    "no_seconds = years*no_days*no_hours*no_min*no_sec\n",
    "print(no_seconds)"
   ]
  },
  {
   "cell_type": "code",
   "execution_count": 4,
   "id": "f329b571",
   "metadata": {},
   "outputs": [
    {
     "name": "stdout",
     "output_type": "stream",
     "text": [
      "157788000.0\n"
     ]
    }
   ],
   "source": [
    "# considering a leap year\n",
    "no_days = 365.25\n",
    "no_seconds = years*no_days*no_hours*no_min*no_sec\n",
    "print(no_seconds)"
   ]
  },
  {
   "cell_type": "markdown",
   "id": "2ea97131",
   "metadata": {},
   "source": [
    "# debugging error\n"
   ]
  },
  {
   "cell_type": "raw",
   "id": "3086b66f",
   "metadata": {},
   "source": [
    "1)one of the commonly faced errors while when we introduce variable is name error\n",
    "2) instead of no_days if i type number_days and try to insert in the parenthesis of the print() function ,we will come across the error"
   ]
  },
  {
   "cell_type": "code",
   "execution_count": 5,
   "id": "c2ce4422",
   "metadata": {},
   "outputs": [
    {
     "ename": "NameError",
     "evalue": "name 'number_days' is not defined",
     "output_type": "error",
     "traceback": [
      "\u001b[1;31m---------------------------------------------------------------------------\u001b[0m",
      "\u001b[1;31mNameError\u001b[0m                                 Traceback (most recent call last)",
      "\u001b[1;32m~\\AppData\\Local\\Temp\\ipykernel_18556\\1659071877.py\u001b[0m in \u001b[0;36m<module>\u001b[1;34m\u001b[0m\n\u001b[1;32m----> 1\u001b[1;33m \u001b[0mprint\u001b[0m\u001b[1;33m(\u001b[0m\u001b[0mnumber_days\u001b[0m\u001b[1;33m)\u001b[0m\u001b[1;33m\u001b[0m\u001b[1;33m\u001b[0m\u001b[0m\n\u001b[0m",
      "\u001b[1;31mNameError\u001b[0m: name 'number_days' is not defined"
     ]
    }
   ],
   "source": [
    "print(number_days)"
   ]
  },
  {
   "cell_type": "raw",
   "id": "5338c6b3",
   "metadata": {},
   "source": [
    "When you see NameError like this, it's an indication that you should check how you have spelled the variable that it references as \"not defined\". "
   ]
  },
  {
   "cell_type": "code",
   "execution_count": 19,
   "id": "0eef7e86",
   "metadata": {},
   "outputs": [
    {
     "name": "stdout",
     "output_type": "stream",
     "text": [
      "365.25\n"
     ]
    }
   ],
   "source": [
    "print(no_days)"
   ]
  },
  {
   "cell_type": "markdown",
   "id": "9e616dba",
   "metadata": {},
   "source": [
    "# Functions"
   ]
  },
  {
   "cell_type": "raw",
   "id": "7859b602",
   "metadata": {},
   "source": [
    "Function is a block of code designed to perform specific task.Functions will you to perform same calculation  multiple times without duplicating the code"
   ]
  },
  {
   "cell_type": "code",
   "execution_count": 20,
   "id": "f4a44c61",
   "metadata": {},
   "outputs": [],
   "source": [
    "def add_3(input_var):\n",
    "    output_var = input_var+3\n",
    "    return output_var"
   ]
  },
  {
   "cell_type": "code",
   "execution_count": 21,
   "id": "3fab6d8c",
   "metadata": {},
   "outputs": [
    {
     "data": {
      "text/plain": [
       "6"
      ]
     },
     "execution_count": 21,
     "metadata": {},
     "output_type": "execute_result"
    }
   ],
   "source": [
    "add_3(3)"
   ]
  },
  {
   "cell_type": "raw",
   "id": "8dd28390",
   "metadata": {},
   "source": [
    "A function can have multiple arguments or no arguments , an argument is simply the name of the variable that will be used as a input to the function."
   ]
  },
  {
   "cell_type": "raw",
   "id": "2d428720",
   "metadata": {},
   "source": [
    "def - we are trying to tell that ,we are using keyword \"def\" that allows us to create a function with some name,here it is add_3"
   ]
  },
  {
   "cell_type": "raw",
   "id": "69fa657a",
   "metadata": {},
   "source": [
    "All this comes under the part of Header "
   ]
  },
  {
   "cell_type": "raw",
   "id": "7f873c4e",
   "metadata": {},
   "source": [
    "The function body specifies what the function does"
   ]
  },
  {
   "cell_type": "raw",
   "id": "01731b37",
   "metadata": {},
   "source": [
    "at the end of the function , we see return and some variable we expect to be returned \n",
    "1) Basically the return is the  key word tells the python that we are about to exit the key function\n",
    "2) when we see the function add_3, we can see out_put named variable after the keyword ,basically  the variable that is returned when the function is exited"
   ]
  },
  {
   "cell_type": "raw",
   "id": "6252ab33",
   "metadata": {},
   "source": [
    "when we Run a function ,it can be also called as calling a function"
   ]
  },
  {
   "cell_type": "code",
   "execution_count": 22,
   "id": "989d3a26",
   "metadata": {},
   "outputs": [
    {
     "name": "stdout",
     "output_type": "stream",
     "text": [
      "13\n"
     ]
    }
   ],
   "source": [
    "new_number = add_3(10)\n",
    "print(new_number)"
   ]
  },
  {
   "cell_type": "code",
   "execution_count": 23,
   "id": "83ea84d3",
   "metadata": {},
   "outputs": [
    {
     "ename": "TypeError",
     "evalue": "add_3() missing 1 required positional argument: 'input_var'",
     "output_type": "error",
     "traceback": [
      "\u001b[1;31m---------------------------------------------------------------------------\u001b[0m",
      "\u001b[1;31mTypeError\u001b[0m                                 Traceback (most recent call last)",
      "\u001b[1;32m~\\AppData\\Local\\Temp\\ipykernel_18556\\183188972.py\u001b[0m in \u001b[0;36m<module>\u001b[1;34m\u001b[0m\n\u001b[1;32m----> 1\u001b[1;33m \u001b[0madd_3\u001b[0m\u001b[1;33m(\u001b[0m\u001b[1;33m)\u001b[0m\u001b[1;33m\u001b[0m\u001b[1;33m\u001b[0m\u001b[0m\n\u001b[0m",
      "\u001b[1;31mTypeError\u001b[0m: add_3() missing 1 required positional argument: 'input_var'"
     ]
    }
   ],
   "source": [
    "add_3()"
   ]
  },
  {
   "cell_type": "code",
   "execution_count": null,
   "id": "c5da7656",
   "metadata": {},
   "outputs": [],
   "source": [
    "new_number = add_3()\n",
    "print(new_number)"
   ]
  },
  {
   "cell_type": "code",
   "execution_count": null,
   "id": "26a07e4f",
   "metadata": {},
   "outputs": [],
   "source": [
    "def ADD_3(Input):\n",
    "    output = Input+3\n",
    "    return output"
   ]
  },
  {
   "cell_type": "code",
   "execution_count": null,
   "id": "3b1cdf06",
   "metadata": {},
   "outputs": [],
   "source": [
    "ADD_3(6)"
   ]
  },
  {
   "cell_type": "markdown",
   "id": "188d7153",
   "metadata": {},
   "source": [
    "# A complex example\n"
   ]
  },
  {
   "cell_type": "code",
   "execution_count": null,
   "id": "59e2144f",
   "metadata": {},
   "outputs": [],
   "source": [
    "def income(no_hours):\n",
    "    payper_hour = 15\n",
    "    wage = no_hours*payper_hour\n",
    "    salary = wage*0.88\n",
    "    return salary"
   ]
  },
  {
   "cell_type": "code",
   "execution_count": null,
   "id": "7e7cb9b0",
   "metadata": {},
   "outputs": [],
   "source": [
    "print(income(40))"
   ]
  },
  {
   "cell_type": "code",
   "execution_count": null,
   "id": "3da42025",
   "metadata": {},
   "outputs": [],
   "source": [
    "income_bheem = income(32)\n",
    "print(income_bheem)"
   ]
  },
  {
   "cell_type": "code",
   "execution_count": null,
   "id": "191b9dc5",
   "metadata": {},
   "outputs": [],
   "source": [
    "print(wage)"
   ]
  },
  {
   "cell_type": "raw",
   "id": "712626d5",
   "metadata": {},
   "source": [
    "If you need any information from a function,you need to make sure that appears in the return statement at the end of the function"
   ]
  },
  {
   "cell_type": "raw",
   "id": "26bca8a2",
   "metadata": {},
   "source": [
    "If we see variables like payper_hour,wage,salary these fall under the category of local variables ,like these have only local scope of that function only.and other functions like income_bheem come under global variables category and  can be accessed everywhere."
   ]
  },
  {
   "cell_type": "markdown",
   "id": "dedb3ffe",
   "metadata": {},
   "source": [
    "# Function with multiple arguments"
   ]
  },
  {
   "cell_type": "raw",
   "id": "15b00174",
   "metadata": {},
   "source": [
    "To define a function with multiple arguments, you only need to add more arguments inside the parentheses in the function head and separate them with a comma."
   ]
  },
  {
   "cell_type": "code",
   "execution_count": 24,
   "id": "29fa71ee",
   "metadata": {},
   "outputs": [],
   "source": [
    "def get_pay_with_more_inputs(num_hours,hourly_wage,tax_braket):\n",
    "    gross_salary = num_hours*hourly_wage\n",
    "    tax = 1-tax_braket\n",
    "    net_salary = gross_salary*tax\n",
    "    return net_salary"
   ]
  },
  {
   "cell_type": "code",
   "execution_count": 25,
   "id": "9d1d7913",
   "metadata": {},
   "outputs": [
    {
     "name": "stdout",
     "output_type": "stream",
     "text": [
      "528.0\n"
     ]
    }
   ],
   "source": [
    "print(get_pay_with_more_inputs(40,15,0.12))"
   ]
  },
  {
   "cell_type": "markdown",
   "id": "b69a1c3c",
   "metadata": {},
   "source": [
    "# Function with no arguments"
   ]
  },
  {
   "cell_type": "raw",
   "id": "46a9b250",
   "metadata": {},
   "source": [
    "it's possible to define function with no arguments, and that don't have a return statement"
   ]
  },
  {
   "cell_type": "code",
   "execution_count": 26,
   "id": "7d50c613",
   "metadata": {},
   "outputs": [],
   "source": [
    "def wish():\n",
    "    print(\"Hello world !\")\n",
    "    "
   ]
  },
  {
   "cell_type": "code",
   "execution_count": 27,
   "id": "8fbad284",
   "metadata": {},
   "outputs": [
    {
     "name": "stdout",
     "output_type": "stream",
     "text": [
      "Hello world !\n",
      "None\n"
     ]
    }
   ],
   "source": [
    "print(wish())"
   ]
  },
  {
   "cell_type": "markdown",
   "id": "200a4060",
   "metadata": {},
   "source": [
    "# Data types\n",
    "Whenever you create a variable in Python, it has a value with a corresponding data type. There are many different data types, such as integers, floats, booleans, and strings, all of which we'll cover in this lesson. (This is just a small subset of the available data types -- there are also dictionaries, sets, lists, tuples, and much more.)"
   ]
  },
  {
   "cell_type": "raw",
   "id": "0fe7ae2a",
   "metadata": {},
   "source": [
    "Integer"
   ]
  },
  {
   "cell_type": "code",
   "execution_count": 28,
   "id": "9b1b7e77",
   "metadata": {},
   "outputs": [
    {
     "name": "stdout",
     "output_type": "stream",
     "text": [
      "<class 'int'>\n"
     ]
    }
   ],
   "source": [
    "x = 14\n",
    "print(type(x))"
   ]
  },
  {
   "cell_type": "code",
   "execution_count": 29,
   "id": "7cecb08b",
   "metadata": {},
   "outputs": [
    {
     "name": "stdout",
     "output_type": "stream",
     "text": [
      "<class 'float'>\n"
     ]
    }
   ],
   "source": [
    "y = 3.4\n",
    "print((type(y)))"
   ]
  },
  {
   "cell_type": "raw",
   "id": "e026be14",
   "metadata": {},
   "source": [
    "we can also specify a float with a fraction"
   ]
  },
  {
   "cell_type": "code",
   "execution_count": 30,
   "id": "6b1f4734",
   "metadata": {},
   "outputs": [
    {
     "name": "stdout",
     "output_type": "stream",
     "text": [
      "3.14159\n"
     ]
    }
   ],
   "source": [
    "# we will be using a round() function \n",
    "pi = 3.141592653589793238462643383279502884197169399375105820974944\n",
    "round_pi = round(pi,5)\n",
    "print(round_pi)"
   ]
  },
  {
   "cell_type": "code",
   "execution_count": 31,
   "id": "96166efb",
   "metadata": {},
   "outputs": [
    {
     "name": "stdout",
     "output_type": "stream",
     "text": [
      "<class 'int'>\n",
      "<class 'float'>\n"
     ]
    }
   ],
   "source": [
    "x = 1\n",
    "y = 1.0\n",
    "print(type(x))\n",
    "print(type(y))"
   ]
  },
  {
   "cell_type": "raw",
   "id": "14cfd76b",
   "metadata": {},
   "source": [
    "Negative floats are always rounded UP to the closest integer (for instance, both -1.1 and -1.9 are rounded up to -1). Positive floats are always rounded DOWN to the closest integer (for instance, 2.1 and 2.9 are rounded down to 2)."
   ]
  },
  {
   "cell_type": "code",
   "execution_count": 32,
   "id": "e66a7642",
   "metadata": {},
   "outputs": [
    {
     "name": "stdout",
     "output_type": "stream",
     "text": [
      "1\n",
      "1\n",
      "-3\n",
      "-2\n"
     ]
    }
   ],
   "source": [
    "print(int(1.2321))\n",
    "print(int(1.747))\n",
    "print(int(-3.94535))\n",
    "print(int(-2.19774))"
   ]
  },
  {
   "cell_type": "raw",
   "id": "199f02c3",
   "metadata": {},
   "source": [
    "Boolean"
   ]
  },
  {
   "cell_type": "code",
   "execution_count": 33,
   "id": "7eff0377",
   "metadata": {},
   "outputs": [
    {
     "name": "stdout",
     "output_type": "stream",
     "text": [
      "3\n",
      "-3.1\n",
      "<class 'str'>\n",
      "0\n"
     ]
    }
   ],
   "source": [
    "print(3 * True)\n",
    "print(-3.1 * True)\n",
    "print(type(\"abc\" * False))\n",
    "print(len(\"abc\" * False))"
   ]
  },
  {
   "cell_type": "markdown",
   "id": "4d679ec4",
   "metadata": {},
   "source": [
    "# \n",
    "When you multiple an integer or float by a boolean with value True, it just returns that same integer or float (and is equivalent to multiplying by 1). If you multiply an integer or float by a boolean with value False, it always returns 0. This is true for both positive and negative numbers. If you multiply a string by a boolean with value True, it just returns that same string. And if you multiply a string by a boolean with value False, it returns an empty string (or a string with length zero)."
   ]
  },
  {
   "cell_type": "code",
   "execution_count": 34,
   "id": "612b4906",
   "metadata": {},
   "outputs": [
    {
     "name": "stdout",
     "output_type": "stream",
     "text": [
      "<class 'bool'> <class 'bool'>\n"
     ]
    }
   ],
   "source": [
    "a = True\n",
    "b = False\n",
    "print(type(a),type(b))"
   ]
  },
  {
   "cell_type": "markdown",
   "id": "55e1dcdc",
   "metadata": {},
   "source": [
    "\n",
    "Booleans are used to represent the truth value of an expression. Since 1 < 2 is a true statement, z_three takes on a value of True."
   ]
  },
  {
   "cell_type": "code",
   "execution_count": 35,
   "id": "66bab6a0",
   "metadata": {},
   "outputs": [
    {
     "name": "stdout",
     "output_type": "stream",
     "text": [
      "True\n"
     ]
    }
   ],
   "source": [
    "true = (1<2)\n",
    "print(true)"
   ]
  },
  {
   "cell_type": "code",
   "execution_count": 36,
   "id": "ec172426",
   "metadata": {},
   "outputs": [
    {
     "name": "stdout",
     "output_type": "stream",
     "text": [
      "True\n"
     ]
    }
   ],
   "source": [
    "false = 3>1\n",
    "print(false)"
   ]
  },
  {
   "cell_type": "code",
   "execution_count": 37,
   "id": "376d39cd",
   "metadata": {},
   "outputs": [
    {
     "name": "stdout",
     "output_type": "stream",
     "text": [
      "<class 'bool'>\n"
     ]
    }
   ],
   "source": [
    "print(type(true))"
   ]
  },
  {
   "cell_type": "raw",
   "id": "e6b7bad0",
   "metadata": {},
   "source": [
    "When you add booleans, adding False is equivalent to adding 0, and adding True is equivalent to adding 1."
   ]
  },
  {
   "cell_type": "markdown",
   "id": "35d9e98d",
   "metadata": {},
   "source": [
    "# _string_\n",
    "The string data type is a collection of characters (like alphabet letters, punctuation, numerical digits, or symbols) contained in quotation marks. Strings are commonly used to represent text"
   ]
  },
  {
   "cell_type": "code",
   "execution_count": 38,
   "id": "734534f2",
   "metadata": {},
   "outputs": [
    {
     "name": "stdout",
     "output_type": "stream",
     "text": [
      "<class 'str'>\n",
      "Bheemesh Pujari !!\n"
     ]
    }
   ],
   "source": [
    "my_name = \"Bheemesh Pujari !!\"\n",
    "print(type(my_name))\n",
    "print(my_name)"
   ]
  },
  {
   "cell_type": "raw",
   "id": "797128ed",
   "metadata": {},
   "source": [
    "You can get the length of a string with len(). \"Bheemesh Pujari !!\" has length 18, because it has 18 characters, including the space, comma, and exclamation mark. Note that the quotation marks are not included when calculating the length."
   ]
  },
  {
   "cell_type": "code",
   "execution_count": 39,
   "id": "8c4671e0",
   "metadata": {},
   "outputs": [
    {
     "name": "stdout",
     "output_type": "stream",
     "text": [
      "18\n"
     ]
    }
   ],
   "source": [
    "print(len(my_name))"
   ]
  },
  {
   "cell_type": "markdown",
   "id": "f41db11c",
   "metadata": {},
   "source": [
    "\n",
    "One special thing of string is it can be empty"
   ]
  },
  {
   "cell_type": "code",
   "execution_count": 40,
   "id": "76bd77a1",
   "metadata": {},
   "outputs": [
    {
     "name": "stdout",
     "output_type": "stream",
     "text": [
      "1\n"
     ]
    }
   ],
   "source": [
    "shorteststring = \" \"\n",
    "print(len(shorteststring))"
   ]
  },
  {
   "cell_type": "code",
   "execution_count": 41,
   "id": "82bdf43c",
   "metadata": {},
   "outputs": [
    {
     "name": "stdout",
     "output_type": "stream",
     "text": [
      "0\n"
     ]
    }
   ],
   "source": [
    "shorteststring = \"\"\n",
    "print(len(shorteststring))"
   ]
  },
  {
   "cell_type": "code",
   "execution_count": 42,
   "id": "457972b4",
   "metadata": {},
   "outputs": [
    {
     "name": "stdout",
     "output_type": "stream",
     "text": [
      "1.23456789\n",
      "<class 'str'>\n"
     ]
    }
   ],
   "source": [
    "new_number = \"1.23456789\"\n",
    "print(new_number)\n",
    "print(type(new_number))"
   ]
  },
  {
   "cell_type": "code",
   "execution_count": 43,
   "id": "3d98eb0f",
   "metadata": {},
   "outputs": [
    {
     "name": "stdout",
     "output_type": "stream",
     "text": [
      "1.23456789\n",
      "<class 'float'>\n"
     ]
    }
   ],
   "source": [
    "new_num = float(new_number)\n",
    "print(new_num)\n",
    "print(type(new_num))"
   ]
  },
  {
   "cell_type": "code",
   "execution_count": 44,
   "id": "33dec625",
   "metadata": {},
   "outputs": [],
   "source": [
    "new_string = \"hi bheemesh\"\n",
    "# we cannot this into any other datatype like integer,float,boolean we will get an error"
   ]
  },
  {
   "cell_type": "code",
   "execution_count": 45,
   "id": "3af58946",
   "metadata": {},
   "outputs": [
    {
     "ename": "ValueError",
     "evalue": "could not convert string to float: 'hi bheemesh'",
     "output_type": "error",
     "traceback": [
      "\u001b[1;31m---------------------------------------------------------------------------\u001b[0m",
      "\u001b[1;31mValueError\u001b[0m                                Traceback (most recent call last)",
      "\u001b[1;32m~\\AppData\\Local\\Temp\\ipykernel_18556\\559834431.py\u001b[0m in \u001b[0;36m<module>\u001b[1;34m\u001b[0m\n\u001b[1;32m----> 1\u001b[1;33m \u001b[0mnew\u001b[0m \u001b[1;33m=\u001b[0m \u001b[0mfloat\u001b[0m\u001b[1;33m(\u001b[0m\u001b[0mnew_string\u001b[0m\u001b[1;33m)\u001b[0m\u001b[1;33m\u001b[0m\u001b[1;33m\u001b[0m\u001b[0m\n\u001b[0m\u001b[0;32m      2\u001b[0m \u001b[0mprint\u001b[0m\u001b[1;33m(\u001b[0m\u001b[0mnew\u001b[0m\u001b[1;33m)\u001b[0m\u001b[1;33m\u001b[0m\u001b[1;33m\u001b[0m\u001b[0m\n\u001b[0;32m      3\u001b[0m \u001b[0mprint\u001b[0m\u001b[1;33m(\u001b[0m\u001b[0mtype\u001b[0m\u001b[1;33m(\u001b[0m\u001b[0mnew\u001b[0m\u001b[1;33m)\u001b[0m\u001b[1;33m)\u001b[0m\u001b[1;33m\u001b[0m\u001b[1;33m\u001b[0m\u001b[0m\n",
      "\u001b[1;31mValueError\u001b[0m: could not convert string to float: 'hi bheemesh'"
     ]
    }
   ],
   "source": [
    "new = float(new_string)\n",
    "print(new)\n",
    "print(type(new))"
   ]
  },
  {
   "cell_type": "markdown",
   "id": "885a8a6e",
   "metadata": {},
   "source": [
    "# \n",
    "Just like you can add two numbers (floats or integers), you can also add two strings. It results in a longer string that combines the two original strings by concatenating them."
   ]
  },
  {
   "cell_type": "code",
   "execution_count": 46,
   "id": "a75cfeeb",
   "metadata": {},
   "outputs": [
    {
     "name": "stdout",
     "output_type": "stream",
     "text": [
      "PujariBheemesh\n"
     ]
    }
   ],
   "source": [
    "add_string = \"Pujari\"+\"Bheemesh\"\n",
    "print(add_string)"
   ]
  },
  {
   "cell_type": "code",
   "execution_count": 47,
   "id": "70caefd2",
   "metadata": {},
   "outputs": [
    {
     "name": "stdout",
     "output_type": "stream",
     "text": [
      "<class 'str'>\n"
     ]
    }
   ],
   "source": [
    "print(type(add_string))"
   ]
  },
  {
   "cell_type": "markdown",
   "id": "68c79d93",
   "metadata": {},
   "source": [
    "# \n",
    "Note that it's not possible to do subtraction or division with two strings. You also can't multiply two strings, but you can multiply a string by an integer. This again results in a string that's just the original string concatenated with itself a specified number of times."
   ]
  },
  {
   "cell_type": "code",
   "execution_count": 48,
   "id": "3092bc68",
   "metadata": {},
   "outputs": [
    {
     "ename": "TypeError",
     "evalue": "unsupported operand type(s) for -: 'str' and 'str'",
     "output_type": "error",
     "traceback": [
      "\u001b[1;31m---------------------------------------------------------------------------\u001b[0m",
      "\u001b[1;31mTypeError\u001b[0m                                 Traceback (most recent call last)",
      "\u001b[1;32m~\\AppData\\Local\\Temp\\ipykernel_18556\\1563704658.py\u001b[0m in \u001b[0;36m<module>\u001b[1;34m\u001b[0m\n\u001b[1;32m----> 1\u001b[1;33m \u001b[0msub_string\u001b[0m \u001b[1;33m=\u001b[0m \u001b[1;34m\"Pujari\"\u001b[0m\u001b[1;33m-\u001b[0m\u001b[1;34m\"Bheemesh\"\u001b[0m\u001b[1;33m\u001b[0m\u001b[1;33m\u001b[0m\u001b[0m\n\u001b[0m\u001b[0;32m      2\u001b[0m \u001b[0mprint\u001b[0m\u001b[1;33m(\u001b[0m\u001b[0msub_string\u001b[0m\u001b[1;33m)\u001b[0m\u001b[1;33m\u001b[0m\u001b[1;33m\u001b[0m\u001b[0m\n",
      "\u001b[1;31mTypeError\u001b[0m: unsupported operand type(s) for -: 'str' and 'str'"
     ]
    }
   ],
   "source": [
    "sub_string = \"Pujari\"-\"Bheemesh\"\n",
    "print(sub_string)"
   ]
  },
  {
   "cell_type": "code",
   "execution_count": null,
   "id": "78a49ff2",
   "metadata": {},
   "outputs": [],
   "source": [
    "# multiplying a string with an integer\n",
    "new_str = \"I will win no matter what \"*3\n",
    "print(new_str)"
   ]
  },
  {
   "cell_type": "raw",
   "id": "abd139ca",
   "metadata": {},
   "source": [
    "However, we cannot multiply a string with a float"
   ]
  },
  {
   "cell_type": "code",
   "execution_count": null,
   "id": "fa47a457",
   "metadata": {},
   "outputs": [],
   "source": [
    "new_str_float = \"ABC\"*3.0\n",
    "print(new_str_float)"
   ]
  },
  {
   "cell_type": "markdown",
   "id": "70ee1417",
   "metadata": {},
   "source": [
    "#  Conditions and conditional statements"
   ]
  },
  {
   "cell_type": "raw",
   "id": "2bca03c1",
   "metadata": {},
   "source": [
    "In programming conditions are statements that are either true or false"
   ]
  },
  {
   "cell_type": "code",
   "execution_count": null,
   "id": "98f4b914",
   "metadata": {},
   "outputs": [],
   "source": [
    "print(2>3)"
   ]
  },
  {
   "cell_type": "code",
   "execution_count": null,
   "id": "95858ca5",
   "metadata": {},
   "outputs": [],
   "source": [
    "var_one = 1\n",
    "var_two = 2\n",
    "print(var_two>=var_one)"
   ]
  },
  {
   "cell_type": "markdown",
   "id": "5d855aaa",
   "metadata": {},
   "source": [
    "##### Important Note: When you check two values are equal, make sure you use the == sign, and not the = sign.\n",
    "\n",
    "var_one==1 checks if the value of var_one is 1, but\n",
    "var_one=1 sets the value of var_one to 1."
   ]
  },
  {
   "cell_type": "raw",
   "id": "98f3336b",
   "metadata": {},
   "source": [
    "\n",
    "Symbol\t  Meaning\n",
    "==\t      equals\n",
    "!=\t      does not equal\n",
    "<\t      less than\n",
    "<=\t      less than or equal to\n",
    ">\t      greater than\n",
    ">=\t      greater than or equal to"
   ]
  },
  {
   "cell_type": "markdown",
   "id": "573a007c",
   "metadata": {},
   "source": [
    "#### IF statements"
   ]
  },
  {
   "cell_type": "code",
   "execution_count": 49,
   "id": "7390670b",
   "metadata": {},
   "outputs": [],
   "source": [
    "def health_status(body_temperature):\n",
    "    message = \"Normal Temparature !\"\n",
    "    if body_temperature > 38:\n",
    "        message = \" Fever \"\n",
    "    return message"
   ]
  },
  {
   "cell_type": "code",
   "execution_count": 50,
   "id": "ac0ca78d",
   "metadata": {},
   "outputs": [
    {
     "data": {
      "text/plain": [
       "'Normal Temparature !'"
      ]
     },
     "execution_count": 50,
     "metadata": {},
     "output_type": "execute_result"
    }
   ],
   "source": [
    "health_status(37)"
   ]
  },
  {
   "cell_type": "code",
   "execution_count": 51,
   "id": "14aefb81",
   "metadata": {},
   "outputs": [
    {
     "data": {
      "text/plain": [
       "' Fever '"
      ]
     },
     "execution_count": 51,
     "metadata": {},
     "output_type": "execute_result"
    }
   ],
   "source": [
    "health_status(39)"
   ]
  },
  {
   "cell_type": "markdown",
   "id": "2687bd08",
   "metadata": {},
   "source": [
    "###### Note that there are two levels of indentation:\n",
    "\n",
    "The first level of indentation is because we always need to indent the code block inside a function.\n",
    "The second level of indentation is because we also need to indent the code block belonging to the \"if\" statement. (As you'll see, we'll also need to indent the code blocks for \"elif\" and \"else\" statements.)\n",
    "Note that because the return statement is not indented under the \"if\" statement, it is always executed, whether temp > 38 is True or False."
   ]
  },
  {
   "cell_type": "markdown",
   "id": "1e072337",
   "metadata": {},
   "source": [
    "#### IF ELSE statements"
   ]
  },
  {
   "cell_type": "code",
   "execution_count": 52,
   "id": "a1480e98",
   "metadata": {},
   "outputs": [],
   "source": [
    "def evaluate_temp_if_else(temp):\n",
    "    if temp>38:\n",
    "        message = \"Fever !\"\n",
    "    else:\n",
    "        message = \"Normal Temperature !\"\n",
    "    return message"
   ]
  },
  {
   "cell_type": "code",
   "execution_count": 53,
   "id": "396e5345",
   "metadata": {},
   "outputs": [
    {
     "data": {
      "text/plain": [
       "'Normal Temperature !'"
      ]
     },
     "execution_count": 53,
     "metadata": {},
     "output_type": "execute_result"
    }
   ],
   "source": [
    "evaluate_temp_if_else(25)"
   ]
  },
  {
   "cell_type": "markdown",
   "id": "0962a9a1",
   "metadata": {},
   "source": [
    "#### IF ELIF ELSE Statements\n",
    "there's no limit to the number of \"elif\" statements you can use\n",
    "Once an \"elif\" statement evaluates to True and the code block is run, the function skips over all remaining \"elif\" and \"else\" statements. After skipping these, all that is left is the return statement, which returns the value of dose.\n",
    "The order of the elif statements does matter here! Re-ordering the statements will return a very different result."
   ]
  },
  {
   "cell_type": "code",
   "execution_count": 54,
   "id": "84300a2c",
   "metadata": {},
   "outputs": [],
   "source": [
    "def evaluate_temp_elif(temp):\n",
    "    if temp>38:\n",
    "        message = \"Suffering from fever \"\n",
    "    elif temp >35 :\n",
    "        message = \"Normal Temperature !\"\n",
    "    else :\n",
    "        message = \"Low Temperature \"\n",
    "    return message "
   ]
  },
  {
   "cell_type": "code",
   "execution_count": 55,
   "id": "5f2843d5",
   "metadata": {},
   "outputs": [
    {
     "data": {
      "text/plain": [
       "'Low Temperature '"
      ]
     },
     "execution_count": 55,
     "metadata": {},
     "output_type": "execute_result"
    }
   ],
   "source": [
    "evaluate_temp_elif(29)"
   ]
  },
  {
   "cell_type": "markdown",
   "id": "3d149622",
   "metadata": {},
   "source": [
    "###### you can think of \"elif\" as saying ... \"okay, that previous condition (e.g., temp > 38) was false, so let's check if this new condition (e.g., temp > 35) might be true!\""
   ]
  },
  {
   "cell_type": "code",
   "execution_count": 56,
   "id": "16e1c225",
   "metadata": {},
   "outputs": [],
   "source": [
    "def tax_pay(salary):\n",
    "    if salary > 12000:\n",
    "        tax = salary*0.30\n",
    "    else:\n",
    "        tax = salary*0.25\n",
    "    return tax"
   ]
  },
  {
   "cell_type": "code",
   "execution_count": 57,
   "id": "9fc35416",
   "metadata": {},
   "outputs": [
    {
     "data": {
      "text/plain": [
       "2250.0"
      ]
     },
     "execution_count": 57,
     "metadata": {},
     "output_type": "execute_result"
    }
   ],
   "source": [
    "tax_pay(9000)"
   ]
  },
  {
   "cell_type": "markdown",
   "id": "67ddfbf6",
   "metadata": {},
   "source": [
    "# Lists\n",
    "When doing data science, you need a way to organize your data so you can work with it efficiently. Python has many data structures available for holding your data, such as lists, sets, dictionaries, and tuples. In this tutorial, you will learn how to work with Python lists."
   ]
  },
  {
   "cell_type": "code",
   "execution_count": 58,
   "id": "e1beb746",
   "metadata": {},
   "outputs": [
    {
     "name": "stdout",
     "output_type": "stream",
     "text": [
      "<class 'str'>\n",
      "pink primrose,hard-leaved pocket orchid,canterbury bells,sweet pea,english marigold,tiger lily,moon orchid,bird of paradise,monkshood,globe thistle\n"
     ]
    }
   ],
   "source": [
    "flowers = \"pink primrose,hard-leaved pocket orchid,canterbury bells,sweet pea,english marigold,tiger lily,moon orchid,bird of paradise,monkshood,globe thistle\"\n",
    "\n",
    "print(type(flowers))\n",
    "print(flowers)"
   ]
  },
  {
   "cell_type": "raw",
   "id": "5615b8f2",
   "metadata": {},
   "source": [
    "We can make this even better understandable and present it in a understandable manner.By writing the data in a list manner"
   ]
  },
  {
   "cell_type": "raw",
   "id": "6ccb3741",
   "metadata": {},
   "source": [
    "In general , the list data type is stored in these [,] brakets.Every item in the square brakets are separated by the commas.The items in the lists can be datatypes like integer,float,and string.In the above example strings are used with \" \",Every item in the list is a Python string, so each is enclosed in quotation marks."
   ]
  },
  {
   "cell_type": "code",
   "execution_count": 59,
   "id": "e2bd2c0f",
   "metadata": {},
   "outputs": [
    {
     "name": "stdout",
     "output_type": "stream",
     "text": [
      "<class 'list'>\n",
      "['pink primrose', 'hard-leaved pocket orchid', 'canterbury bells', 'sweet pea', 'english marigold', 'tiger lily', 'moon orchid', 'bird of paradise', 'monkshood', 'globe thistle']\n"
     ]
    }
   ],
   "source": [
    "flowers_list = [\"pink primrose\", \"hard-leaved pocket orchid\", \"canterbury bells\", \"sweet pea\", \"english marigold\", \"tiger lily\", \"moon orchid\", \"bird of paradise\", \"monkshood\", \"globe thistle\"]\n",
    "\n",
    "print(type(flowers_list))\n",
    "print(flowers_list)"
   ]
  },
  {
   "cell_type": "markdown",
   "id": "16a0135c",
   "metadata": {},
   "source": [
    "###### For instance, a list will make it easier to:\n",
    "\n",
    "get an item at a specified position (first, second, third, etc),\n",
    "check the number of items, and\n",
    "add and remove items."
   ]
  },
  {
   "cell_type": "code",
   "execution_count": 60,
   "id": "95bc3e64",
   "metadata": {},
   "outputs": [
    {
     "name": "stdout",
     "output_type": "stream",
     "text": [
      "10\n"
     ]
    }
   ],
   "source": [
    "# finding the length of the list\n",
    "print(len(flowers_list))"
   ]
  },
  {
   "cell_type": "markdown",
   "id": "94e9f350",
   "metadata": {},
   "source": [
    "### Indexing\n",
    "We can refer to any item in the list according to its position in the list (first, second, third, etc). This is called indexing.\n",
    "\n",
    "Note that Python uses zero-based indexing, which means that:\n",
    "\n",
    "1) to pull the first entry in the list, you use 0,\n",
    "2) to pull the second entry in the list, you use 1, and\n",
    "3) to pull the final entry in the list, you use one less than the length of the list."
   ]
  },
  {
   "cell_type": "code",
   "execution_count": 61,
   "id": "2201d605",
   "metadata": {},
   "outputs": [
    {
     "name": "stdout",
     "output_type": "stream",
     "text": [
      "Fifth_word: moon orchid\n"
     ]
    }
   ],
   "source": [
    "print(\"Fifth_word:\",flowers_list[6])"
   ]
  },
  {
   "cell_type": "code",
   "execution_count": 62,
   "id": "a5456f9f",
   "metadata": {},
   "outputs": [
    {
     "name": "stdout",
     "output_type": "stream",
     "text": [
      "last word: globe thistle\n"
     ]
    }
   ],
   "source": [
    "print(\"last word:\",flowers_list[9])"
   ]
  },
  {
   "cell_type": "markdown",
   "id": "734b6e0d",
   "metadata": {},
   "source": [
    "### Slicing\n",
    "You can also pull a segment of a list (for instance, the first three entries or the last two entries). This is called slicing. For instance:\n",
    "\n",
    "1) to pull the first x entries, you use [:x], and\n",
    "2) to pull the last y entries, you use [-y:]."
   ]
  },
  {
   "cell_type": "code",
   "execution_count": 63,
   "id": "b63eb16b",
   "metadata": {},
   "outputs": [
    {
     "name": "stdout",
     "output_type": "stream",
     "text": [
      "Fir\n"
     ]
    }
   ],
   "source": [
    "print(\"First 3 items in the list :\" [:3])"
   ]
  },
  {
   "cell_type": "code",
   "execution_count": 64,
   "id": "491c9947",
   "metadata": {},
   "outputs": [
    {
     "name": "stdout",
     "output_type": "stream",
     "text": [
      "['pink primrose', 'hard-leaved pocket orchid', 'canterbury bells']\n"
     ]
    }
   ],
   "source": [
    "print(flowers_list[:3])"
   ]
  },
  {
   "cell_type": "code",
   "execution_count": 65,
   "id": "a76a4a9f",
   "metadata": {},
   "outputs": [
    {
     "name": "stdout",
     "output_type": "stream",
     "text": [
      "['monkshood', 'globe thistle']\n"
     ]
    }
   ],
   "source": [
    "print(flowers_list[-2:])"
   ]
  },
  {
   "cell_type": "code",
   "execution_count": 66,
   "id": "f2495124",
   "metadata": {},
   "outputs": [
    {
     "name": "stdout",
     "output_type": "stream",
     "text": [
      "['pink primrose', 'hard-leaved pocket orchid', 'canterbury bells', 'sweet pea', 'english marigold', 'tiger lily', 'moon orchid', 'bird of paradise', 'monkshood']\n"
     ]
    }
   ],
   "source": [
    "print(flowers_list[:9])"
   ]
  },
  {
   "cell_type": "markdown",
   "id": "2fa7075c",
   "metadata": {},
   "source": [
    "### Removing items\n",
    "Remove an item from a list with .remove(), and put the item you would like to remove in parentheses."
   ]
  },
  {
   "cell_type": "code",
   "execution_count": 67,
   "id": "2d7ea799",
   "metadata": {},
   "outputs": [
    {
     "name": "stdout",
     "output_type": "stream",
     "text": [
      "['hard-leaved pocket orchid', 'canterbury bells', 'sweet pea', 'english marigold', 'tiger lily', 'moon orchid', 'bird of paradise', 'monkshood', 'globe thistle']\n"
     ]
    }
   ],
   "source": [
    "flowers_list.remove(\"pink primrose\")\n",
    "print(flowers_list)"
   ]
  },
  {
   "cell_type": "markdown",
   "id": "91e9a340",
   "metadata": {},
   "source": [
    "### Adding items\n",
    "Add an item to a list with .append(), and put the item you would like to add in parentheses."
   ]
  },
  {
   "cell_type": "code",
   "execution_count": 68,
   "id": "be988012",
   "metadata": {},
   "outputs": [
    {
     "name": "stdout",
     "output_type": "stream",
     "text": [
      "['hard-leaved pocket orchid', 'canterbury bells', 'sweet pea', 'english marigold', 'tiger lily', 'moon orchid', 'bird of paradise', 'monkshood', 'globe thistle', 'Snap dragon']\n"
     ]
    }
   ],
   "source": [
    "flowers_list.append(\"Snap dragon\")\n",
    "print(flowers_list)"
   ]
  },
  {
   "cell_type": "markdown",
   "id": "0e4d8518",
   "metadata": {},
   "source": [
    "### Lists are not just for strings\n",
    "So far, we have only worked with lists where each item in the list is a string. But lists can have items with any data type, including booleans, integers, and floats."
   ]
  },
  {
   "cell_type": "code",
   "execution_count": 69,
   "id": "5c2ae5f6",
   "metadata": {},
   "outputs": [
    {
     "name": "stdout",
     "output_type": "stream",
     "text": [
      "6\n",
      "[45, 69, 34]\n",
      "[67, 93]\n",
      "[45, 34, 92, 67, 93]\n",
      "[45, 34, 92, 67, 93, 69]\n"
     ]
    }
   ],
   "source": [
    "sales = [45,69,34,92,67,93]\n",
    "print(len(sales))\n",
    "print(sales[:3])\n",
    "print(sales[-2:])\n",
    "sales.remove(69)\n",
    "print(sales)\n",
    "sales.append(69)\n",
    "print(sales)"
   ]
  },
  {
   "cell_type": "markdown",
   "id": "5ceecd3f",
   "metadata": {},
   "source": [
    "### Things like min(),max(),sum(),average()\n",
    "1) You can also get the minimum with min() and the maximum with max()\n",
    "2) To add every item in the list, use sum()."
   ]
  },
  {
   "cell_type": "code",
   "execution_count": 70,
   "id": "95993bab",
   "metadata": {},
   "outputs": [
    {
     "name": "stdout",
     "output_type": "stream",
     "text": [
      "Minimum of the sales list : 34\n",
      "Maximum of the sales list : 93\n"
     ]
    }
   ],
   "source": [
    "print(\"Minimum of the sales list :\", min(sales))\n",
    "print(\"Maximum of the sales list :\",max(sales))"
   ]
  },
  {
   "cell_type": "code",
   "execution_count": 71,
   "id": "44bd8490",
   "metadata": {},
   "outputs": [
    {
     "name": "stdout",
     "output_type": "stream",
     "text": [
      "Sum of the sales list :  400\n"
     ]
    }
   ],
   "source": [
    "print(\"Sum of the sales list : \", sum(sales))"
   ]
  },
  {
   "cell_type": "code",
   "execution_count": 73,
   "id": "cb15ee0f",
   "metadata": {},
   "outputs": [
    {
     "name": "stdout",
     "output_type": "stream",
     "text": [
      "Average of the sales list : 66.66666666666667\n"
     ]
    }
   ],
   "source": [
    "print(\"Average of the sales list :\",sum(sales)/len(sales))"
   ]
  },
  {
   "cell_type": "markdown",
   "id": "833996bf",
   "metadata": {},
   "source": [
    "## you can actually use Python to quickly turn this string into a list with .split(). In the parentheses, we need to provide the character should be used to mark the end of one list item and the beginning of another, and enclose it in quotation marks. In this case, that character is a comma."
   ]
  },
  {
   "cell_type": "code",
   "execution_count": 74,
   "id": "9f6666c1",
   "metadata": {},
   "outputs": [
    {
     "data": {
      "text/plain": [
       "['Mr. H. Potter',\n",
       " 'The cupboard under the Stairs',\n",
       " '4 Privet Drive',\n",
       " 'Little Whinging',\n",
       " 'Surrey']"
      ]
     },
     "execution_count": 74,
     "metadata": {},
     "output_type": "execute_result"
    }
   ],
   "source": [
    "address = \"Mr. H. Potter,The cupboard under the Stairs,4 Privet Drive,Little Whinging,Surrey\"\n",
    "address.split(\",\")"
   ]
  },
  {
   "cell_type": "code",
   "execution_count": 75,
   "id": "b8276ac8",
   "metadata": {},
   "outputs": [
    {
     "name": "stdout",
     "output_type": "stream",
     "text": [
      "[True, True, False, False, False]\n"
     ]
    }
   ],
   "source": [
    "salary = [2500,3700,750,576,904]\n",
    "high_income = [i>=1000 for i in salary]\n",
    "print(high_income)"
   ]
  },
  {
   "cell_type": "markdown",
   "id": "6f5bc73b",
   "metadata": {},
   "source": [
    "###### Remember that when we add booleans, it returns the total number of entries in the sum that are True."
   ]
  }
 ],
 "metadata": {
  "kernelspec": {
   "display_name": "Python 3 (ipykernel)",
   "language": "python",
   "name": "python3"
  },
  "language_info": {
   "codemirror_mode": {
    "name": "ipython",
    "version": 3
   },
   "file_extension": ".py",
   "mimetype": "text/x-python",
   "name": "python",
   "nbconvert_exporter": "python",
   "pygments_lexer": "ipython3",
   "version": "3.9.13"
  }
 },
 "nbformat": 4,
 "nbformat_minor": 5
}
